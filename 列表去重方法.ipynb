{
 "cells": [
  {
   "cell_type": "markdown",
   "id": "spare-muscle",
   "metadata": {},
   "source": [
    "# 列表去重的方法"
   ]
  },
  {
   "cell_type": "code",
   "execution_count": 2,
   "id": "simplified-mainstream",
   "metadata": {},
   "outputs": [],
   "source": [
    "orgList = [1, 0, 3, 7, 7, 5]"
   ]
  },
  {
   "cell_type": "markdown",
   "id": "explicit-disclaimer",
   "metadata": {},
   "source": [
    "### 使用set()去重，但是无法保留原来的顺序"
   ]
  },
  {
   "cell_type": "code",
   "execution_count": 3,
   "id": "determined-savings",
   "metadata": {},
   "outputs": [
    {
     "name": "stdout",
     "output_type": "stream",
     "text": [
      "[0, 1, 3, 5, 7]\n"
     ]
    }
   ],
   "source": [
    "# 不保留原来的顺序\n",
    "formatList = list(set(orgList))\n",
    "print(formatList)"
   ]
  },
  {
   "cell_type": "markdown",
   "id": "subjective-incidence",
   "metadata": {},
   "source": [
    "### 使用fromkeys()去重，可以保留原来的顺序"
   ]
  },
  {
   "cell_type": "code",
   "execution_count": 6,
   "id": "relevant-somerset",
   "metadata": {},
   "outputs": [
    {
     "name": "stdout",
     "output_type": "stream",
     "text": [
      "[1, 0, 3, 7, 5]\n"
     ]
    }
   ],
   "source": [
    "# 保留原来的顺序\n",
    "formatList = list({}.fromkeys(orgList).keys())\n",
    "print(formatList)"
   ]
  },
  {
   "cell_type": "markdown",
   "id": "absolute-template",
   "metadata": {},
   "source": [
    "### 不保留顺序去重后重新排序"
   ]
  },
  {
   "cell_type": "code",
   "execution_count": 9,
   "id": "iraqi-joyce",
   "metadata": {},
   "outputs": [
    {
     "name": "stdout",
     "output_type": "stream",
     "text": [
      "[1, 0, 3, 7, 5]\n"
     ]
    }
   ],
   "source": [
    "# 按照索引再次排序\n",
    "formatList = list(set(orgList))\n",
    "formatList.sort(key=orgList.index)\n",
    "print(formatList)"
   ]
  }
 ],
 "metadata": {
  "kernelspec": {
   "display_name": "Python 3",
   "language": "python",
   "name": "python3"
  },
  "language_info": {
   "codemirror_mode": {
    "name": "ipython",
    "version": 3
   },
   "file_extension": ".py",
   "mimetype": "text/x-python",
   "name": "python",
   "nbconvert_exporter": "python",
   "pygments_lexer": "ipython3",
   "version": "3.8.1"
  }
 },
 "nbformat": 4,
 "nbformat_minor": 5
}
