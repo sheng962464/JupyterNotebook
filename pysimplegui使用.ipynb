{
 "cells": [
  {
   "cell_type": "markdown",
   "id": "offshore-edinburgh",
   "metadata": {},
   "source": [
    "# pysimplegui使用"
   ]
  },
  {
   "cell_type": "code",
   "execution_count": 4,
   "id": "compound-documentation",
   "metadata": {},
   "outputs": [
    {
     "data": {
      "text/plain": [
       "'OK'"
      ]
     },
     "execution_count": 4,
     "metadata": {},
     "output_type": "execute_result"
    }
   ],
   "source": [
    "import PySimpleGUI as sg\n",
    "sg.popup_ok('默认弹窗')"
   ]
  },
  {
   "cell_type": "markdown",
   "id": "powerful-thread",
   "metadata": {},
   "source": [
    "![Snipaste_2021-02-18_09-16-27](https://cdn.jsdelivr.net/gh/sheng962464/PicGo/img/Snipaste_2021-02-18_09-16-27.png)"
   ]
  },
  {
   "cell_type": "markdown",
   "id": "greater-clerk",
   "metadata": {},
   "source": [
    "## 简单弹窗类型\n",
    "\n",
    "- `sg.popup('注意！') // sg.popup_ok('默认弹窗')`\n",
    "- `sg.popup_yes_no('带Yes和No按钮的弹窗')`\n",
    "- `sg.popup_cancel('带cancel按钮的弹窗')`\n",
    "- `sg.popup_ok_cancel('带OK和cancel按钮的弹窗')`\n",
    "- `sg.popup_error('带红色error按钮的弹窗')`\n",
    "- `sg.popup_auto_close('2秒后自动关闭的弹窗')`\n",
    "\n",
    "### 简单弹窗参数\n",
    "\n",
    "| 类型                 | 名称                  | 作用                                 |\n",
    "| -------------------- | --------------------- | ------------------------------------ |\n",
    "| 任意                 | 开头任意参数          | 显示的消息（多个字符串默认换行）      |\n",
    "| `str`                | `title`               | 窗口标题（如果窗口短，则显示不出来） |\n",
    "| `(str,str)`          | `button_color`        | 按钮颜色（前景色，背景色）           |\n",
    "| `int`                | `line_width`          | 一行几个字                           |\n",
    "| `bool`               | `auto_close`          | 如果为 `true` ，则自动关闭           |\n",
    "| `int` 或 `float`     | `auto_close_duration` | 自动关闭的延时（秒）                 |\n",
    "| `(str,str)` 或 `str` | `custom_text`         | 自定义显示按钮的文字                 |\n",
    "| `(int,int)`          | `location`            | 窗口出现在屏幕的位置                 |\n",
    "| `str`                | `background_color`    | 背景色                               |\n",
    "| `str`                | `text_color`          | 文字颜色                             |\n",
    "| `bool`               | `no_titlebar`         | 如果为 `true` ，则没有标题栏         |\n",
    "| `bool`               | `grab_anywhere`       | 如果为 `true` ，则可以拖拽窗口       |\n",
    "| `bool`               | `keep_on_top`         | 如果为 `true` ，则窗口置于最上方     |\n",
    "| `(str,str)` 或 `str` | `font`                | 指定字体                             |\n",
    "| `str` 或 `bytes`     | `image`               | 在窗口内要显示的图片，在文字上方显示 |"
   ]
  },
  {
   "cell_type": "code",
   "execution_count": 6,
   "id": "paperback-rabbit",
   "metadata": {},
   "outputs": [
    {
     "data": {
      "text/plain": [
       "' 好的 '"
      ]
     },
     "execution_count": 6,
     "metadata": {},
     "output_type": "execute_result"
    }
   ],
   "source": [
    "sg.popup(\n",
    "  '这是弹窗',\n",
    "  title='Hello',\n",
    "  button_color=('#A81B0C', '#FFFFFF'),\n",
    "  background_color='#F47264',\n",
    "  line_width=2,\n",
    "  custom_text=' 好的 '\n",
    ")"
   ]
  },
  {
   "cell_type": "markdown",
   "id": "noticed-performer",
   "metadata": {},
   "source": [
    "![Snipaste_2021-02-18_09-46-52](https://cdn.jsdelivr.net/gh/sheng962464/PicGo/img/Snipaste_2021-02-18_09-46-52.png)"
   ]
  },
  {
   "cell_type": "markdown",
   "id": "computational-conjunction",
   "metadata": {},
   "source": [
    "------"
   ]
  },
  {
   "cell_type": "markdown",
   "id": "three-denmark",
   "metadata": {},
   "source": [
    "## 文字内容弹窗\n",
    "\n",
    "采用`popup_scrolled()`方法，括号中添加要显示的内容即可"
   ]
  },
  {
   "cell_type": "code",
   "execution_count": 7,
   "id": "suited-integration",
   "metadata": {},
   "outputs": [
    {
     "data": {
      "text/plain": [
       "'OK'"
      ]
     },
     "execution_count": 7,
     "metadata": {},
     "output_type": "execute_result"
    }
   ],
   "source": [
    "text = '''大家好，\n",
    "我们一起来学习PySimpleGUI制作简单的图形用户界面。'''\n",
    "sg.popup_scrolled(text,title='Hello')"
   ]
  },
  {
   "cell_type": "markdown",
   "id": "standard-storm",
   "metadata": {},
   "source": [
    "![Snipaste_2021-02-18_09-49-57](https://cdn.jsdelivr.net/gh/sheng962464/PicGo/img/Snipaste_2021-02-18_09-49-57.png)"
   ]
  },
  {
   "cell_type": "markdown",
   "id": "advanced-bradley",
   "metadata": {},
   "source": [
    "### 文字内容弹窗额外参数\n",
    "\n",
    "| 类型        | 名称     | 作用                                             |\n",
    "| ----------- | -------- | ------------------------------------------------ |\n",
    "| `bool`      | `yes_no` | 如果为 `true` ，则为 `yes no` 按钮而非 `ok` 按钮 |\n",
    "| `(int,int)` | `size`   | 宽度和高度                                       |"
   ]
  },
  {
   "cell_type": "markdown",
   "id": "joint-breakdown",
   "metadata": {},
   "source": [
    "------"
   ]
  },
  {
   "cell_type": "markdown",
   "id": "sweet-belize",
   "metadata": {},
   "source": [
    "## 获取用户输入的弹窗\n",
    "\n",
    "采用`popup_get_text()`方法，括号内容有点类似`input()`语句中的提示语，提醒用户输入。如果是点击`Cancel`，输出端为`None`。"
   ]
  },
  {
   "cell_type": "code",
   "execution_count": 8,
   "id": "acoustic-aspect",
   "metadata": {},
   "outputs": [
    {
     "name": "stdout",
     "output_type": "stream",
     "text": [
      "None\n"
     ]
    }
   ],
   "source": [
    "text1 = sg.popup_get_text('请输入文字1')\n",
    "print(text1) "
   ]
  },
  {
   "cell_type": "markdown",
   "id": "domestic-alfred",
   "metadata": {},
   "source": [
    "![Snipaste_2021-02-18_09-55-04](https://cdn.jsdelivr.net/gh/sheng962464/PicGo/img/Snipaste_2021-02-18_09-55-04.png)"
   ]
  },
  {
   "cell_type": "markdown",
   "id": "important-cooling",
   "metadata": {},
   "source": [
    "### 获取用户输入弹窗额外参数\n",
    "\n",
    "| 类型  | 名称            | 作用                               |\n",
    "| ----- | --------------- | ---------------------------------- |\n",
    "| `str` | `message`       | 提示用户的信息                     |\n",
    "| `str` | `default_text`  | 默认文字                           |\n",
    "| `str` | `password_char` | 替换文字显示的符号（用于密码输入） |"
   ]
  },
  {
   "cell_type": "markdown",
   "id": "dietary-dream",
   "metadata": {},
   "source": [
    "------"
   ]
  },
  {
   "cell_type": "markdown",
   "id": "logical-aside",
   "metadata": {},
   "source": [
    "## 文件选择弹窗\n",
    "\n",
    "直接采用`sg.popup_get_file()`方法，括号里面的内容也是输入的提示语"
   ]
  },
  {
   "cell_type": "code",
   "execution_count": 9,
   "id": "thousand-pierce",
   "metadata": {},
   "outputs": [
    {
     "name": "stdout",
     "output_type": "stream",
     "text": [
      "None\n"
     ]
    }
   ],
   "source": [
    "text1 = sg.popup_get_file('请选择文件')\n",
    "print(text1)"
   ]
  },
  {
   "cell_type": "markdown",
   "id": "intellectual-reaction",
   "metadata": {},
   "source": [
    "![Snipaste_2021-02-18_10-01-15](https://cdn.jsdelivr.net/gh/sheng962464/PicGo/img/Snipaste_2021-02-18_10-01-15.png)"
   ]
  },
  {
   "cell_type": "markdown",
   "id": "removable-cameroon",
   "metadata": {},
   "source": [
    "### 文件选择弹窗额外参数\n",
    "\n",
    "| 类型                   | 名称             | 作用                                                     |\n",
    "| ---------------------- | ---------------- | -------------------------------------------------------- |\n",
    "| `str`                  | `message`        | 提示用户的信息                                           |\n",
    "| `str`                  | `default_path`   | 默认显示的路径                                           |\n",
    "| `bool`                 | `save_as`        | 如果为 `true` ，则是另存为对话框，覆盖文件时提示用户确认 |\n",
    "| `bool`                 | `multiple_files` | 是否允许多选文件                                         |\n",
    "| `((类型名称,后缀),……)` | `file_types`     | 允许用户选择文件的类型                                   |\n",
    "| `str`                  | `initial_folder` | 开始选择文件的初始文件夹路径                             |"
   ]
  },
  {
   "cell_type": "markdown",
   "id": "choice-concentrate",
   "metadata": {},
   "source": [
    "-----"
   ]
  },
  {
   "cell_type": "markdown",
   "id": "rubber-pride",
   "metadata": {},
   "source": [
    "## 文件夹选择窗口"
   ]
  },
  {
   "cell_type": "code",
   "execution_count": 11,
   "id": "certain-oakland",
   "metadata": {},
   "outputs": [
    {
     "name": "stdout",
     "output_type": "stream",
     "text": [
      "None\n"
     ]
    }
   ],
   "source": [
    "text1 = sg.popup_get_folder('请选择文件夹')\n",
    "print(text1)"
   ]
  },
  {
   "cell_type": "markdown",
   "id": "southeast-flour",
   "metadata": {},
   "source": [
    "![Snipaste_2021-02-18_10-10-25](https://cdn.jsdelivr.net/gh/sheng962464/PicGo/img/Snipaste_2021-02-18_10-10-25.png)"
   ]
  },
  {
   "cell_type": "markdown",
   "id": "exposed-relations",
   "metadata": {},
   "source": [
    "------"
   ]
  },
  {
   "cell_type": "markdown",
   "id": "affected-helping",
   "metadata": {},
   "source": [
    "## 进度条弹窗\n",
    "\n",
    "采用`sg.one_line_progress_meter()`方法，括号中输入相关的参数设置内容"
   ]
  },
  {
   "cell_type": "code",
   "execution_count": 12,
   "id": "hourly-objective",
   "metadata": {},
   "outputs": [],
   "source": [
    "for i in range(1000):\n",
    "  sg.one_line_progress_meter(\n",
    "    '进度条',\n",
    "    i + 1,\n",
    "    1000,\n",
    "    '该进度条key',\n",
    "    '这是一个进度条'\n",
    "  )"
   ]
  },
  {
   "cell_type": "markdown",
   "id": "marked-humanity",
   "metadata": {},
   "source": [
    "![Snipaste_2021-02-18_10-12-52](https://cdn.jsdelivr.net/gh/sheng962464/PicGo/img/Snipaste_2021-02-18_10-12-52.png)"
   ]
  },
  {
   "cell_type": "markdown",
   "id": "technological-sympathy",
   "metadata": {},
   "source": [
    "### 进度条弹窗额外参数\n",
    "\n",
    "| 类型                   | 名称            | 作用                                     |\n",
    "| ---------------------- | --------------- | ---------------------------------------- |\n",
    "| `str`                  | `title`         | 标题                                     |\n",
    "| `int`                  | `current_value` | 当前数值                                 |\n",
    "| `int`                  | `max_value`     | 最大数值                                 |\n",
    "| `str,int,tuple,object` | `key`           | 进度条框的 key ，用于区分不同的进度条    |\n",
    "| 任意                   | 任意个参数      | 显示的消息                               |\n",
    "| `'h'` 或者 `'v'`       | `orientation`   | 进度条的方向，`'h'` 为水平，`'v'` 为竖直 |\n",
    "| `(str,str)`            | `bar_color`     | 进度条颜色                               |"
   ]
  }
 ],
 "metadata": {
  "kernelspec": {
   "display_name": "Python 3",
   "language": "python",
   "name": "python3"
  },
  "language_info": {
   "codemirror_mode": {
    "name": "ipython",
    "version": 3
   },
   "file_extension": ".py",
   "mimetype": "text/x-python",
   "name": "python",
   "nbconvert_exporter": "python",
   "pygments_lexer": "ipython3",
   "version": "3.8.1"
  }
 },
 "nbformat": 4,
 "nbformat_minor": 5
}
