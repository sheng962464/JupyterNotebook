{
 "cells": [
  {
   "cell_type": "markdown",
   "id": "temporal-powder",
   "metadata": {},
   "source": [
    "# if-else的简化写法"
   ]
  },
  {
   "cell_type": "markdown",
   "id": "wooden-tonight",
   "metadata": {},
   "source": [
    "#### 普通写法"
   ]
  },
  {
   "cell_type": "code",
   "execution_count": 1,
   "id": "timely-courage",
   "metadata": {},
   "outputs": [],
   "source": [
    "def isLen_1(strString):\n",
    "    if len(strString) > 6:\n",
    "        return True\n",
    "    else:\n",
    "        return False"
   ]
  },
  {
   "cell_type": "markdown",
   "id": "entire-tomorrow",
   "metadata": {},
   "source": [
    "#### 三元操作符写法"
   ]
  },
  {
   "cell_type": "code",
   "execution_count": 2,
   "id": "abroad-syndication",
   "metadata": {},
   "outputs": [],
   "source": [
    "def isLen_2(strString):\n",
    "    return True if len(strString) > 6 else False"
   ]
  },
  {
   "cell_type": "markdown",
   "id": "positive-capability",
   "metadata": {},
   "source": [
    "#### 简化写法，这里注意false和true的位置\n",
    "其实就是一个列表，后面一个列表返回 `0` 则为 `false` ，返回 `1` 则为 `true`"
   ]
  },
  {
   "cell_type": "code",
   "execution_count": 3,
   "id": "administrative-bottle",
   "metadata": {},
   "outputs": [],
   "source": [
    "def isLen_3(strString):\n",
    "    return [False, True][len(strString) > 6]"
   ]
  },
  {
   "cell_type": "markdown",
   "id": "marine-wallace",
   "metadata": {},
   "source": [
    "#### 运行结果"
   ]
  },
  {
   "cell_type": "code",
   "execution_count": 5,
   "id": "suitable-village",
   "metadata": {},
   "outputs": [
    {
     "name": "stdout",
     "output_type": "stream",
     "text": [
      "True\n",
      "True\n",
      "True\n"
     ]
    }
   ],
   "source": [
    "test = 'test string'\n",
    "print(isLen_1(test))\n",
    "print(isLen_2(test))\n",
    "print(isLen_3(test))"
   ]
  }
 ],
 "metadata": {
  "kernelspec": {
   "display_name": "Python 3",
   "language": "python",
   "name": "python3"
  },
  "language_info": {
   "codemirror_mode": {
    "name": "ipython",
    "version": 3
   },
   "file_extension": ".py",
   "mimetype": "text/x-python",
   "name": "python",
   "nbconvert_exporter": "python",
   "pygments_lexer": "ipython3",
   "version": "3.8.1"
  }
 },
 "nbformat": 4,
 "nbformat_minor": 5
}
