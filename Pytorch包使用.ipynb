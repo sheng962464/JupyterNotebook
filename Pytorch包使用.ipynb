{
 "cells": [
  {
   "cell_type": "markdown",
   "metadata": {},
   "source": [
    "# Pytorch包使用"
   ]
  },
  {
   "cell_type": "code",
   "execution_count": 1,
   "metadata": {},
   "outputs": [],
   "source": [
    "import torch"
   ]
  },
  {
   "cell_type": "markdown",
   "metadata": {},
   "source": [
    "## 创建Tensor变量"
   ]
  },
  {
   "cell_type": "code",
   "execution_count": 5,
   "metadata": {},
   "outputs": [
    {
     "data": {
      "text/plain": [
       "tensor([[8.7245e-39, 9.2755e-39, 8.9082e-39],\n",
       "        [9.9184e-39, 8.4490e-39, 9.6429e-39],\n",
       "        [1.0653e-38, 1.0469e-38, 4.2246e-39],\n",
       "        [1.0378e-38, 9.6429e-39, 9.2755e-39],\n",
       "        [9.7346e-39, 1.0745e-38, 1.0102e-38]])"
      ]
     },
     "execution_count": 5,
     "metadata": {},
     "output_type": "execute_result"
    }
   ],
   "source": [
    "torch.empty(5,3)"
   ]
  },
  {
   "cell_type": "code",
   "execution_count": 6,
   "metadata": {},
   "outputs": [
    {
     "data": {
      "text/plain": [
       "tensor([[0.0188, 0.7820, 0.9817],\n",
       "        [0.2656, 0.7174, 0.7221],\n",
       "        [0.7443, 0.3900, 0.5945],\n",
       "        [0.1207, 0.6235, 0.7472],\n",
       "        [0.8165, 0.1322, 0.2512]])"
      ]
     },
     "execution_count": 6,
     "metadata": {},
     "output_type": "execute_result"
    }
   ],
   "source": [
    "torch.rand(5,3)"
   ]
  },
  {
   "cell_type": "code",
   "execution_count": 7,
   "metadata": {},
   "outputs": [
    {
     "data": {
      "text/plain": [
       "tensor([[0, 0, 0],\n",
       "        [0, 0, 0],\n",
       "        [0, 0, 0],\n",
       "        [0, 0, 0],\n",
       "        [0, 0, 0]])"
      ]
     },
     "execution_count": 7,
     "metadata": {},
     "output_type": "execute_result"
    }
   ],
   "source": [
    "torch.zeros(5,3,dtype=torch.long)"
   ]
  },
  {
   "cell_type": "code",
   "execution_count": 16,
   "metadata": {},
   "outputs": [
    {
     "name": "stdout",
     "output_type": "stream",
     "text": [
      "tensor([5.5000, 3.0000])\n"
     ]
    }
   ],
   "source": [
    "x = torch.tensor([5.5,3])\n",
    "print(x)"
   ]
  },
  {
   "cell_type": "code",
   "execution_count": 19,
   "metadata": {},
   "outputs": [
    {
     "name": "stdout",
     "output_type": "stream",
     "text": [
      "tensor([[1., 1., 1.],\n",
      "        [1., 1., 1.],\n",
      "        [1., 1., 1.],\n",
      "        [1., 1., 1.],\n",
      "        [1., 1., 1.]])\n"
     ]
    }
   ],
   "source": [
    "x = x.new_ones(5,3)\n",
    "print(x)"
   ]
  },
  {
   "cell_type": "markdown",
   "metadata": {},
   "source": [
    "这里的tensor之所以是float类型，是由于上面定义的x是float类型\n",
    "\n",
    "新的x是通过原有的x创建的，因此重复使用原有x的属性，比如数据类型，除非自定义数据类型"
   ]
  },
  {
   "cell_type": "code",
   "execution_count": 20,
   "metadata": {},
   "outputs": [
    {
     "name": "stdout",
     "output_type": "stream",
     "text": [
      "tensor([[1, 1, 1],\n",
      "        [1, 1, 1],\n",
      "        [1, 1, 1],\n",
      "        [1, 1, 1],\n",
      "        [1, 1, 1]], dtype=torch.int32)\n"
     ]
    }
   ],
   "source": [
    "x = x.new_ones(5,3,dtype=torch.int)\n",
    "print(x)"
   ]
  },
  {
   "cell_type": "markdown",
   "metadata": {},
   "source": [
    "通过shape和size()来获取Tensor的形状,返回的其实就是一个元组"
   ]
  },
  {
   "cell_type": "code",
   "execution_count": 21,
   "metadata": {},
   "outputs": [
    {
     "name": "stdout",
     "output_type": "stream",
     "text": [
      "torch.Size([5, 3])\n",
      "torch.Size([5, 3])\n"
     ]
    }
   ],
   "source": [
    "print(x.size())\n",
    "print(x.shape)"
   ]
  },
  {
   "cell_type": "markdown",
   "metadata": {},
   "source": [
    "## 操作"
   ]
  },
  {
   "cell_type": "code",
   "execution_count": 23,
   "metadata": {},
   "outputs": [
    {
     "name": "stdout",
     "output_type": "stream",
     "text": [
      "tensor([[1.8511, 1.2541, 1.4336],\n",
      "        [1.6359, 1.9883, 1.1103],\n",
      "        [1.3203, 1.6270, 1.7323],\n",
      "        [1.4338, 1.6635, 1.6513],\n",
      "        [1.6095, 1.3222, 1.2771]])\n"
     ]
    }
   ],
   "source": [
    "y=torch.rand(5,3)\n",
    "print(x+y)"
   ]
  },
  {
   "cell_type": "code",
   "execution_count": 24,
   "metadata": {},
   "outputs": [
    {
     "data": {
      "text/plain": [
       "tensor([[1.8511, 1.2541, 1.4336],\n",
       "        [1.6359, 1.9883, 1.1103],\n",
       "        [1.3203, 1.6270, 1.7323],\n",
       "        [1.4338, 1.6635, 1.6513],\n",
       "        [1.6095, 1.3222, 1.2771]])"
      ]
     },
     "execution_count": 24,
     "metadata": {},
     "output_type": "execute_result"
    }
   ],
   "source": [
    "torch.add(x,y)"
   ]
  },
  {
   "cell_type": "code",
   "execution_count": 26,
   "metadata": {},
   "outputs": [
    {
     "name": "stdout",
     "output_type": "stream",
     "text": [
      "tensor([[1, 1, 1],\n",
      "        [1, 1, 1],\n",
      "        [1, 1, 1],\n",
      "        [1, 1, 1],\n",
      "        [1, 1, 1]], dtype=torch.int32)\n",
      "tensor([[2, 2, 2],\n",
      "        [1, 1, 1],\n",
      "        [1, 1, 1],\n",
      "        [1, 1, 1],\n",
      "        [1, 1, 1]], dtype=torch.int32)\n"
     ]
    }
   ],
   "source": [
    "print(x)\n",
    "y = x[0,:]\n",
    "y+=1\n",
    "print(x)"
   ]
  },
  {
   "cell_type": "markdown",
   "metadata": {},
   "source": [
    "用view()来改变Tensor形状"
   ]
  },
  {
   "cell_type": "markdown",
   "metadata": {},
   "source": [
    "## example_02"
   ]
  },
  {
   "cell_type": "markdown",
   "metadata": {},
   "source": [
    "$$\n",
    "y = 2x_1-3.4x_2+4.2\n",
    "$$"
   ]
  },
  {
   "cell_type": "markdown",
   "metadata": {},
   "source": [
    "- 生成随机数据并保存"
   ]
  },
  {
   "cell_type": "markdown",
   "metadata": {},
   "source": [
    "```python\n",
    "# 生成随机数据\n",
    "def create_random_data():\n",
    "    # 生成随机的x值，1000行，2列\n",
    "    num_inputs = 2\n",
    "    num_examples = 1000\n",
    "    features = torch.randn(num_examples, num_inputs, dtype=torch.float32)\n",
    "    # 计算对应的真实y值\n",
    "    labels = true_w[0] * features[:, 0] + true_w[1] * features[:, 1] + true_b\n",
    "    # 给y值增加噪声\n",
    "    labels += torch.tensor(np.random.normal(0, 0.01, size=labels.size()), dtype=torch.float32)\n",
    "    # 保存随机生成的数据，[x1,x2,y]格式\n",
    "    with open('data_02.csv', 'w', encoding='utf-8') as f:\n",
    "        for i in range(num_examples):\n",
    "            print(f'{features[i, 0]},{features[i, 1]},{labels[i]}', file=f)\n",
    "```"
   ]
  },
  {
   "cell_type": "markdown",
   "metadata": {},
   "source": [
    "- 读取数据"
   ]
  },
  {
   "cell_type": "code",
   "execution_count": 2,
   "metadata": {},
   "outputs": [
    {
     "name": "stdout",
     "output_type": "stream",
     "text": [
      "[[-1.35078025 -0.18672286  2.14577198]\n",
      " [-0.95700544 -0.43928018  3.76832485]\n",
      " [-1.01398301  0.93380219 -0.98848587]\n",
      " ...\n",
      " [ 0.43782285 -1.63536501 10.64122486]\n",
      " [-0.8050397  -1.91326296  9.10551548]\n",
      " [ 1.28255737 -0.21157762  7.48468494]]\n"
     ]
    },
    {
     "data": {
      "image/png": "[encoded data removed]",
      "text/plain": [
       "<Figure size 432x288 with 2 Axes>"
      ]
     },
     "metadata": {
      "needs_background": "light"
     },
     "output_type": "display_data"
    }
   ],
   "source": [
    "import numpy as np\n",
    "import matplotlib.pyplot as plt\n",
    "\n",
    "data_path = r'E:\\Python Programma\\PythonProject\\PyTorch_Learning\\04_回归问题实战\\data_02.csv'\n",
    "points = np.genfromtxt(data_path, delimiter=',')\n",
    "print(points)\n",
    "x1 = points[:,0]\n",
    "x2 = points[:,1]\n",
    "y = points[:,2]\n",
    "plt.figure()\n",
    "\n",
    "# 第一个axes\n",
    "plt.subplot(2, 1, 1)\n",
    "plt.scatter(x1, y, alpha=0.6)\n",
    "\n",
    "# 第二个axes\n",
    "plt.subplot(2, 1, 2)\n",
    "plt.scatter(x2, y, c='red', alpha=0.6)\n",
    "\n",
    "plt.show()"
   ]
  },
  {
   "cell_type": "markdown",
   "metadata": {},
   "source": [
    "建立误差函数模型\n",
    "$$\n",
    "f = (w_1x_1+w_2x_2+b-y)^2\n",
    "$$\n",
    "回归问题转化为求解该函数的最小值\n",
    "\n",
    "分别对三个参数进行求导\n",
    "$$\n",
    "f'(w_1)=2x_1(w_1x_1+w_2x_2+b-y) \\\\\n",
    "f'(w_2)=2x_2(w_1x_1+w_2x_2+b-y) \\\\\n",
    "f'(b)=2(w_1x_1+w_2x_2+b-y) \\\\\n",
    "$$"
   ]
  },
  {
   "cell_type": "code",
   "execution_count": 3,
   "metadata": {},
   "outputs": [],
   "source": [
    "def error_function(curr_w1, curr_w2, curr_b, points):\n",
    "    result = (curr_w1 * points[:,0] + curr_w2 * points[:,1] + curr_b - points[:,2]) ** 2\n",
    "    return np.mean(result)\n",
    "\n",
    "def gradient_w_1(curr_w1, curr_w2, curr_b, points):\n",
    "    result = 2 * points[:,0] * (curr_w1 * points[:,0] + curr_w2 * points[:,1] + curr_b - points[:,2])\n",
    "    return np.mean(result)\n",
    "\n",
    "def gradient_w_2(curr_w1, curr_w2, curr_b, points):\n",
    "    result = 2 * points[:,1] * (curr_w1 * points[:,0] + curr_w2 * points[:,1] + curr_b - points[:,2])\n",
    "    return np.mean(result)\n",
    "\n",
    "def gradient_b(curr_w1, curr_w2, curr_b, points):\n",
    "    result = 2 * (curr_w1 * points[:,0] + curr_w2 * points[:,1] + curr_b - points[:,2])\n",
    "    return np.mean(result)"
   ]
  },
  {
   "cell_type": "markdown",
   "metadata": {},
   "source": [
    "- 开始进行梯度下降循环算法"
   ]
  },
  {
   "cell_type": "code",
   "execution_count": 6,
   "metadata": {},
   "outputs": [
    {
     "name": "stdout",
     "output_type": "stream",
     "text": [
      "434\n",
      "w1=2.0002704411848615, w2=-3.400285869785918, b=4.200447204546369\n"
     ]
    },
    {
     "data": {
      "image/png": "[encoded data removed]",
      "text/plain": [
       "<Figure size 432x288 with 1 Axes>"
      ]
     },
     "metadata": {
      "needs_background": "light"
     },
     "output_type": "display_data"
    }
   ],
   "source": [
    "# 定义初值\n",
    "points_size = len(points)\n",
    "init_w1, init_w2, init_b = 0, 0, 0\n",
    "iter_count = 1000\n",
    "learning_rate = 0.03\n",
    "error_list = []\n",
    "\n",
    "\n",
    "w1, w2, b = init_w1, init_w2, init_b\n",
    "for i in range(iter_count):\n",
    "    w1 -= gradient_w_1(w1, w2, b, points) * learning_rate\n",
    "    w2 -= gradient_w_2(w1, w2, b, points) * learning_rate\n",
    "    b -= gradient_b(w1, w2, b, points) * learning_rate\n",
    "    error = error_function(w1, w2, b, points)\n",
    "    error_list.append(error)\n",
    "    \n",
    "min_error = min(error_list)\n",
    "print(error_list.index(min_error))\n",
    "print(f'w1={w1}, w2={w2}, b={b}')\n",
    "\n",
    "\n",
    "error_array = np.array(error_list)\n",
    "index = np.arange(iter_count)\n",
    "plt.plot(index,error_array)\n",
    "plt.show()"
   ]
  },
  {
   "cell_type": "markdown",
   "metadata": {},
   "source": [
    "## 使用pytorch完成上述操作"
   ]
  },
  {
   "cell_type": "code",
   "execution_count": 10,
   "metadata": {},
   "outputs": [],
   "source": [
    "import numpy as np\n",
    "import torch\n",
    "import torch.nn as nn\n",
    "import torch.optim as optim\n",
    "import torch.utils.data as data\n",
    "from torch.nn import init\n",
    "\n",
    "true_w = [2, -3.4]\n",
    "true_b = 4.2"
   ]
  },
  {
   "cell_type": "markdown",
   "metadata": {},
   "source": [
    "- 构造神经网络模型的类，直接继承nn.Module"
   ]
  },
  {
   "cell_type": "code",
   "execution_count": 11,
   "metadata": {},
   "outputs": [],
   "source": [
    "class LinearNet(nn.Module):\n",
    "    def __init__(self, n_feature):\n",
    "        super(LinearNet, self).__init__()\n",
    "        self.linear = nn.Linear(n_feature, 1)\n",
    "\n",
    "    # forward 定义前向传播\n",
    "    def forward(self, x):\n",
    "        y = self.linear(x)\n",
    "        return y"
   ]
  },
  {
   "cell_type": "markdown",
   "metadata": {},
   "source": [
    "- 读取数据，并转化为tensor类型，注意这里读取的时候必须为float32类型，否则后续操作会失败"
   ]
  },
  {
   "cell_type": "code",
   "execution_count": 13,
   "metadata": {
    "tags": []
   },
   "outputs": [],
   "source": [
    "m_data = np.genfromtxt(r'E:\\Python Programma\\PythonProject\\PyTorch_Learning\\04_回归问题实战\\data_02.csv', delimiter=',', dtype=np.float32)\n",
    "features = torch.from_numpy(m_data[:, :2])\n",
    "labels = torch.from_numpy(m_data[:, 2])"
   ]
  },
  {
   "cell_type": "markdown",
   "metadata": {
    "tags": []
   },
   "source": [
    "- 批量分组，这里为什么要进行这操作还不懂，后面懂了再来写 todo"
   ]
  },
  {
   "cell_type": "code",
   "execution_count": 13,
   "metadata": {
    "tags": []
   },
   "outputs": [],
   "source": [
    "batch_size = 10\n",
    "dataset = data.TensorDataset(features, labels)  # 共1000组数据\n",
    "data_iter = data.DataLoader(dataset, batch_size, shuffle=True)  # 共100个批次的数据，每个批次10个数据，并随机打乱"
   ]
  },
  {
   "cell_type": "markdown",
   "metadata": {},
   "source": [
    "- 构造神经网络对象，包含两个输入维度"
   ]
  },
  {
   "cell_type": "code",
   "execution_count": 16,
   "metadata": {},
   "outputs": [],
   "source": [
    "net = LinearNet(2)"
   ]
  },
  {
   "cell_type": "markdown",
   "metadata": {},
   "source": [
    "- 这里定义初始值，其中权重是个随机数，偏移为0"
   ]
  },
  {
   "cell_type": "code",
   "execution_count": 17,
   "metadata": {},
   "outputs": [
    {
     "data": {
      "text/plain": [
       "Parameter containing:\n",
       "tensor([0.], requires_grad=True)"
      ]
     },
     "execution_count": 17,
     "metadata": {},
     "output_type": "execute_result"
    }
   ],
   "source": [
    "init.normal_(net.linear.weight, mean=0, std=0.01)\n",
    "init.constant_(net.linear.bias, val=0)"
   ]
  },
  {
   "cell_type": "markdown",
   "metadata": {},
   "source": [
    "- 将均方误差损失作为模型的损失函数"
   ]
  },
  {
   "cell_type": "code",
   "execution_count": 18,
   "metadata": {},
   "outputs": [],
   "source": [
    "loss = nn.MSELoss()"
   ]
  },
  {
   "cell_type": "markdown",
   "metadata": {},
   "source": [
    "- 定义优化算法\n",
    "     - 创建一个用于优化net所有参数的优化器实例，并指定学习率为0.03的小批量随机梯度下降（SGD）为优化算法"
   ]
  },
  {
   "cell_type": "code",
   "execution_count": 19,
   "metadata": {},
   "outputs": [],
   "source": [
    "optimizer = optim.SGD(net.parameters(), lr=0.03)"
   ]
  },
  {
   "cell_type": "markdown",
   "metadata": {},
   "source": [
    "- 训练模型"
   ]
  },
  {
   "cell_type": "code",
   "execution_count": 20,
   "metadata": {},
   "outputs": [
    {
     "name": "stdout",
     "output_type": "stream",
     "text": [
      "[2, -3.4] Parameter containing:\n",
      "tensor([[ 1.9995, -3.4002]], requires_grad=True)\n",
      "4.2 Parameter containing:\n",
      "tensor([4.2016], requires_grad=True)\n"
     ]
    }
   ],
   "source": [
    "num_epochs = 3\n",
    "for epoch in range(num_epochs):\n",
    "    for X, y in data_iter:\n",
    "        output = net(X)\n",
    "        ll = loss(output, y.view(-1, 1))\n",
    "        optimizer.zero_grad()  # 梯度清零，等价于net.zero_grad()\n",
    "        ll.backward()\n",
    "        optimizer.step()\n",
    "\n",
    "dense = net.linear\n",
    "print(true_w, dense.weight)\n",
    "print(true_b, dense.bias)"
   ]
  },
  {
   "cell_type": "code",
   "execution_count": null,
   "metadata": {},
   "outputs": [],
   "source": []
  }
 ],
 "metadata": {
  "kernelspec": {
   "display_name": "Python 3",
   "language": "python",
   "name": "python3"
  },
  "language_info": {
   "codemirror_mode": {
    "name": "ipython",
    "version": 3
   },
   "file_extension": ".py",
   "mimetype": "text/x-python",
   "name": "python",
   "nbconvert_exporter": "python",
   "pygments_lexer": "ipython3",
   "version": "3.8.5"
  }
 },
 "nbformat": 4,
 "nbformat_minor": 4
}
