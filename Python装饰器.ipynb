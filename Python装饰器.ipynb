{
 "cells": [
  {
   "cell_type": "markdown",
   "id": "dominican-projection",
   "metadata": {},
   "source": [
    "# Python装饰器\n",
    "\n",
    "## 装饰器简介\n",
    "装饰器放在一个函数开始定义的地方，它就像一顶帽子一样戴在这个函数的头上。和这个函数绑定在一起。在我们调用这个函数的时候，第一件事并不是执行这个函数，而是将这个函数做为参数传入它头顶上这顶帽子，这顶帽子我们称之为 **装饰器** 。基本格式如下：\n",
    "```python\n",
    "def decorator(func):\n",
    "    def wrapper(*args, **kw):\n",
    "        return func()\n",
    "    return wrapper\n",
    "\n",
    "@decorator\n",
    "def function():\n",
    "    print(\"hello, decorator\")\n",
    "```\n",
    "\n",
    "\n"
   ]
  },
  {
   "cell_type": "markdown",
   "id": "associate-conjunction",
   "metadata": {},
   "source": [
    "## 日志打印装饰器"
   ]
  },
  {
   "cell_type": "code",
   "execution_count": 20,
   "id": "settled-integration",
   "metadata": {},
   "outputs": [
    {
     "name": "stdout",
     "output_type": "stream",
     "text": [
      "主人，我准备开始执行：add 函数了:\n",
      "200 + 50 = 250\n",
      "主人，我执行完啦。\n"
     ]
    }
   ],
   "source": [
    "# 这是装饰器函数，参数 func 是被装饰的函数\n",
    "def logger(func):\n",
    "    def wrapper(*args, **kw):\n",
    "        print('主人，我准备开始执行：{} 函数了:'.format(func.__name__))\n",
    "\n",
    "        # 真正执行的是这行。\n",
    "        func(*args, **kw)\n",
    "\n",
    "        print('主人，我执行完啦。')\n",
    "    return wrapper\n",
    "\n",
    "@logger\n",
    "def add(x, y):\n",
    "    print('{} + {} = {}'.format(x, y, x+y))\n",
    "    \n",
    "    \n",
    "if __name__ == '__main__':\n",
    "    add(200,50)"
   ]
  },
  {
   "cell_type": "markdown",
   "id": "amended-internship",
   "metadata": {},
   "source": [
    "## 时间计时器"
   ]
  },
  {
   "cell_type": "code",
   "execution_count": 21,
   "id": "consecutive-cooling",
   "metadata": {},
   "outputs": [
    {
     "name": "stdout",
     "output_type": "stream",
     "text": [
      "200 + 50 = 250\n",
      "花费时间：0.0秒\n"
     ]
    }
   ],
   "source": [
    "import time\n",
    "\n",
    "\n",
    "# 这是装饰函数\n",
    "def timer(func):\n",
    "    def wrapper(*args, **kw):\n",
    "        t1=time.time()\n",
    "        # 这是函数真正执行的地方\n",
    "        func(*args, **kw)\n",
    "        t2=time.time()\n",
    "\n",
    "        # 计算下时长\n",
    "        cost_time = t2-t1 \n",
    "        print(f\"花费时间：{cost_time}秒\")\n",
    "    return wrapper\n",
    "\n",
    "@timer\n",
    "def add(x, y):\n",
    "    print('{} + {} = {}'.format(x, y, x+y))\n",
    "    \n",
    "    \n",
    "if __name__ == '__main__':\n",
    "    add(200,50)"
   ]
  },
  {
   "cell_type": "markdown",
   "id": "cognitive-malaysia",
   "metadata": {},
   "source": [
    "## 带参数的装饰器"
   ]
  },
  {
   "cell_type": "code",
   "execution_count": 30,
   "id": "further-grill",
   "metadata": {},
   "outputs": [
    {
     "name": "stderr",
     "output_type": "stream",
     "text": [
      "add\n",
      "example\n"
     ]
    },
    {
     "name": "stdout",
     "output_type": "stream",
     "text": [
      "Spam!\n"
     ]
    }
   ],
   "source": [
    "from functools import wraps\n",
    "import logging\n",
    "\n",
    "def logged(level, name=None, message=None):\n",
    "    \"\"\"\n",
    "    给函数添加log日志。包含等级，名字，信息。如果没有指定名字和信息，则默认为函数的模块和名字\n",
    "    \"\"\"\n",
    "    def decorate(func):\n",
    "        logname = name if name else func.__module__\n",
    "        log = logging.getLogger(logname)\n",
    "        logmsg = message if message else func.__name__\n",
    "\n",
    "        @wraps(func)\n",
    "        def wrapper(*args, **kwargs):\n",
    "            log.log(level, logmsg)\n",
    "            return func(*args, **kwargs)\n",
    "        return wrapper\n",
    "    return decorate\n",
    "\n",
    "# Example use\n",
    "@logged(logging.WARN)# WARN会显示为红色，Debug不会提示\n",
    "def add(x, y):\n",
    "    return x + y\n",
    "\n",
    "@logged(logging.CRITICAL, message='example')# CRITICAL会显示为红色\n",
    "def spam():\n",
    "    print('Spam!')\n",
    "    \n",
    "\n",
    "if __name__ == '__main__':\n",
    "    add(200,50)\n",
    "    spam()"
   ]
  },
  {
   "cell_type": "markdown",
   "id": "exceptional-hunter",
   "metadata": {},
   "source": [
    "## 不带参数的类装饰器\n",
    "基于类装饰器的实现，必须实现 `__call__` 和 `__init__`两个内置函数。 `__init__` ：接收被装饰函数 `__call__` ：实现装饰逻辑。"
   ]
  },
  {
   "cell_type": "code",
   "execution_count": 25,
   "id": "furnished-secretary",
   "metadata": {},
   "outputs": [
    {
     "name": "stdout",
     "output_type": "stream",
     "text": [
      "[INFO]: the function {self.func.__name__}() is running...\n",
      "say hello!\n"
     ]
    }
   ],
   "source": [
    "class logger(object):\n",
    "    def __init__(self, func):\n",
    "        self.func = func\n",
    "\n",
    "    def __call__(self, *args, **kwargs):\n",
    "        print(\"[INFO]: the function {self.func.__name__}() is running...\")\n",
    "        return self.func(*args, **kwargs)\n",
    "\n",
    "@logger\n",
    "def say(something):\n",
    "    print(f\"say {something}!\")\n",
    "\n",
    "say(\"hello\")"
   ]
  },
  {
   "cell_type": "markdown",
   "id": "circular-economics",
   "metadata": {},
   "source": [
    "## 带参数的类装饰器"
   ]
  },
  {
   "cell_type": "markdown",
   "id": "dense-compilation",
   "metadata": {},
   "source": [
    "上面不带参数的例子，只能打印`INFO`级别的日志，正常情况下，我们还需要打印`DEBUG` `WARNING`等级别的日志。 这就需要给类装饰器传入参数，给这个函数指定级别了。\n",
    "\n",
    "带参数和不带参数的类装饰器有很大的不同。\n",
    "\n",
    "`__init__` ：不再接收被装饰函数，而是接收传入参数。 `__call__` ：接收被装饰函数，实现装饰逻辑。"
   ]
  },
  {
   "cell_type": "code",
   "execution_count": 26,
   "id": "flush-warning",
   "metadata": {},
   "outputs": [
    {
     "name": "stdout",
     "output_type": "stream",
     "text": [
      "[WARNING]: the function say() is running...\n",
      "say hello!\n"
     ]
    }
   ],
   "source": [
    "class logger(object):\n",
    "    def __init__(self, level='INFO'):\n",
    "        self.level = level\n",
    "\n",
    "    def __call__(self, func): # 接受函数\n",
    "        def wrapper(*args, **kwargs):\n",
    "            print(\"[{level}]: the function {func}() is running...\"\\\n",
    "                .format(level=self.level, func=func.__name__))\n",
    "            func(*args, **kwargs)\n",
    "        return wrapper  #返回函数\n",
    "\n",
    "@logger(level='WARNING')\n",
    "def say(something):\n",
    "    print(f\"say {something}!\")\n",
    "\n",
    "say(\"hello\")"
   ]
  },
  {
   "cell_type": "markdown",
   "id": "nearby-upgrade",
   "metadata": {},
   "source": [
    "装饰器还有很多门道，暂时只更新这些，后面需要用到再来更新\n",
    "```Python\n",
    "todo\n",
    "```"
   ]
  }
 ],
 "metadata": {
  "kernelspec": {
   "display_name": "Python 3",
   "language": "python",
   "name": "python3"
  },
  "language_info": {
   "codemirror_mode": {
    "name": "ipython",
    "version": 3
   },
   "file_extension": ".py",
   "mimetype": "text/x-python",
   "name": "python",
   "nbconvert_exporter": "python",
   "pygments_lexer": "ipython3",
   "version": "3.8.1"
  }
 },
 "nbformat": 4,
 "nbformat_minor": 5
}
