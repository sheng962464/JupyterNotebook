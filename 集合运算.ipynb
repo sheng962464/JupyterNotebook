{
 "cells": [
  {
   "cell_type": "markdown",
   "id": "direct-southwest",
   "metadata": {},
   "source": [
    "# 集合运算"
   ]
  },
  {
   "cell_type": "code",
   "execution_count": 31,
   "id": "motivated-arrival",
   "metadata": {},
   "outputs": [],
   "source": [
    "setA = set([1, 2, 3, 4])\n",
    "setB = set([2, 3, 4, 5])"
   ]
  },
  {
   "cell_type": "markdown",
   "id": "abstract-bulletin",
   "metadata": {},
   "source": [
    "## 差集"
   ]
  },
  {
   "cell_type": "code",
   "execution_count": 36,
   "id": "bigger-pollution",
   "metadata": {},
   "outputs": [
    {
     "name": "stdout",
     "output_type": "stream",
     "text": [
      "两者差集结果1： {1}\n",
      "两者差集结果2： {1}\n"
     ]
    }
   ],
   "source": [
    "print('两者差集结果1：', setA.difference(setB))\n",
    "print('两者差集结果2：',setA - setB)"
   ]
  },
  {
   "cell_type": "markdown",
   "id": "considered-relations",
   "metadata": {},
   "source": [
    "## 并集"
   ]
  },
  {
   "cell_type": "code",
   "execution_count": 37,
   "id": "white-reggae",
   "metadata": {},
   "outputs": [
    {
     "name": "stdout",
     "output_type": "stream",
     "text": [
      "两者并集结果1： {1, 2, 3, 4, 5}\n",
      "两者并集结果2： {1, 2, 3, 4, 5}\n"
     ]
    }
   ],
   "source": [
    "print('两者并集结果1：', setA.union(setB))\n",
    "print('两者并集结果2：', setA | setB)"
   ]
  },
  {
   "cell_type": "markdown",
   "id": "finite-little",
   "metadata": {},
   "source": [
    "## 交集"
   ]
  },
  {
   "cell_type": "code",
   "execution_count": 38,
   "id": "tribal-helen",
   "metadata": {},
   "outputs": [
    {
     "name": "stdout",
     "output_type": "stream",
     "text": [
      "两者交集结果1： {2, 3, 4}\n",
      "两者交集结果2： {2, 3, 4}\n"
     ]
    }
   ],
   "source": [
    "print('两者交集结果1：', setA.intersection(setB))\n",
    "print('两者交集结果2：', setA & setB)"
   ]
  },
  {
   "cell_type": "markdown",
   "id": "induced-meditation",
   "metadata": {},
   "source": [
    "## 对称差集"
   ]
  },
  {
   "cell_type": "code",
   "execution_count": 40,
   "id": "medical-procurement",
   "metadata": {},
   "outputs": [
    {
     "name": "stdout",
     "output_type": "stream",
     "text": [
      "两者对称差集结果1： {1, 5}\n"
     ]
    }
   ],
   "source": [
    "print('两者对称差集结果1：', setA ^ setB)"
   ]
  }
 ],
 "metadata": {
  "kernelspec": {
   "display_name": "Python 3",
   "language": "python",
   "name": "python3"
  },
  "language_info": {
   "codemirror_mode": {
    "name": "ipython",
    "version": 3
   },
   "file_extension": ".py",
   "mimetype": "text/x-python",
   "name": "python",
   "nbconvert_exporter": "python",
   "pygments_lexer": "ipython3",
   "version": "3.8.1"
  }
 },
 "nbformat": 4,
 "nbformat_minor": 5
}
