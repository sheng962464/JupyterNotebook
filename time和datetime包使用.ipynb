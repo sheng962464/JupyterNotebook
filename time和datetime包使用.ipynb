{
 "cells": [
  {
   "cell_type": "markdown",
   "id": "democratic-undergraduate",
   "metadata": {},
   "source": [
    "# time和datetime包使用"
   ]
  },
  {
   "cell_type": "markdown",
   "id": "vocal-citizenship",
   "metadata": {},
   "source": [
    "## time包获得的是时间戳\n",
    "`time` 包主要使用四个函数，`time.time()`、 `time.localtime()`和 `time.sleep()` 以及静态方法 `time.strftime()`\n",
    "- `time.time()` 用于返回时间戳，以秒为单位。后续可以创建时间实例\n",
    "- `time.localtime()` 用于返回当前时间戳对应的时间实例，后续可以用于格式化时间\n",
    "- `time.sleep()` 用于设定程序的等待时间，以秒为单位\n",
    "- `time.strftime` 用于格式化时间，通常的格式化字符串为 `\"%Y-%m-%d %H:%M:%S\"`"
   ]
  },
  {
   "cell_type": "code",
   "execution_count": 24,
   "id": "explicit-windows",
   "metadata": {},
   "outputs": [
    {
     "name": "stdout",
     "output_type": "stream",
     "text": [
      "时间戳： 1612251976.7267215\n",
      "时间实例 time.struct_time(tm_year=2021, tm_mon=2, tm_mday=2, tm_hour=15, tm_min=46, tm_sec=16, tm_wday=1, tm_yday=33, tm_isdst=0)\n",
      "休眠5秒，请等待...\n",
      "格式化时间实例： 2021-02-02 15:46:21\n"
     ]
    }
   ],
   "source": [
    "import time\n",
    "\n",
    "time_now = time.time()\n",
    "print('时间戳：', time_now)\n",
    "time_now = time.localtime()\n",
    "print('时间实例', time_now)\n",
    "\n",
    "print('休眠5秒，请等待...')\n",
    "time.sleep(5)\n",
    "\n",
    "time_format = \"%Y-%m-%d %H:%M:%S\"\n",
    "time_now = time.strftime(time_format, time.localtime()) \n",
    "print('格式化时间实例：', time_now)"
   ]
  },
  {
   "cell_type": "markdown",
   "id": "latest-jungle",
   "metadata": {},
   "source": [
    "## datetime包获得时间日期\n",
    "`datetime` 包中主要使用两个模块， `datetime` 模块和 `timedelta` 模块"
   ]
  },
  {
   "cell_type": "markdown",
   "id": "blocked-northern",
   "metadata": {},
   "source": [
    "### datetime.datetime 实例属性及常用方法：\n",
    "```python\n",
    "datetime.year\n",
    "datetime.month\n",
    "datetime.day\n",
    "datetime.hour\n",
    "datetime.minute\n",
    "datetime.second\n",
    "datetime.strftime(format) # 按照 format 进行格式化输出\n",
    "```\n",
    "\n",
    "### datetime的主要静态方法\n",
    "```python\n",
    "datetime.today() # 当前时间，localtime\n",
    "datetime.now()   # 当前时间默认 localtime\n",
    "datetime.strptime(date_string, format) # 给定时间格式解析字符串\n",
    "```"
   ]
  },
  {
   "cell_type": "code",
   "execution_count": 31,
   "id": "specific-writer",
   "metadata": {},
   "outputs": [
    {
     "name": "stdout",
     "output_type": "stream",
     "text": [
      "2021-02-02 15:52:04.099112\n",
      "2021-02-02 15:52:04\n"
     ]
    }
   ],
   "source": [
    "from datetime import datetime, timedelta\n",
    "time_now = datetime.now()    # 这里获得的时间会包含微秒，因此会有小数\n",
    "print(time_now)\n",
    "time_string = time_now.strftime('%Y-%m-%d %H:%M:%S')\n",
    "print(time_string)"
   ]
  },
  {
   "cell_type": "markdown",
   "id": "rational-tuition",
   "metadata": {},
   "source": [
    "### timedelta 主要用于计算时间跨度\n",
    "注意这里运算的两个变量都是时间类型，而不能是格式化字符串（如 `time_string`）"
   ]
  },
  {
   "cell_type": "code",
   "execution_count": 34,
   "id": "after-brooklyn",
   "metadata": {},
   "outputs": [
    {
     "name": "stdout",
     "output_type": "stream",
     "text": [
      "2021-02-02 16:52:04.099112\n",
      "2021-02-02 14:52:04.099112\n"
     ]
    }
   ],
   "source": [
    "delta = timedelta(hours=1)\n",
    "print(time_now + delta)\n",
    "print(time_now - delta)"
   ]
  }
 ],
 "metadata": {
  "kernelspec": {
   "display_name": "Python 3",
   "language": "python",
   "name": "python3"
  },
  "language_info": {
   "codemirror_mode": {
    "name": "ipython",
    "version": 3
   },
   "file_extension": ".py",
   "mimetype": "text/x-python",
   "name": "python",
   "nbconvert_exporter": "python",
   "pygments_lexer": "ipython3",
   "version": "3.8.1"
  }
 },
 "nbformat": 4,
 "nbformat_minor": 5
}
