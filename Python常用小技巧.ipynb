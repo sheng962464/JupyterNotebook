{
 "cells": [
  {
   "cell_type": "markdown",
   "id": "african-dakota",
   "metadata": {},
   "source": [
    "# Python常用小技巧"
   ]
  },
  {
   "cell_type": "markdown",
   "id": "binary-benchmark",
   "metadata": {},
   "source": [
    "## 1. 原地交换两个数字"
   ]
  },
  {
   "cell_type": "code",
   "execution_count": 1,
   "id": "labeled-sperm",
   "metadata": {},
   "outputs": [
    {
     "name": "stdout",
     "output_type": "stream",
     "text": [
      "10 20\n",
      "20 10\n"
     ]
    }
   ],
   "source": [
    "x, y = 10, 20\n",
    "print(x, y)\n",
    "y, x = x, y\n",
    "print(x, y)"
   ]
  },
  {
   "cell_type": "markdown",
   "id": "specified-coverage",
   "metadata": {},
   "source": [
    "## 2. 链状比较操作符"
   ]
  },
  {
   "cell_type": "code",
   "execution_count": 2,
   "id": "numeric-nitrogen",
   "metadata": {},
   "outputs": [
    {
     "name": "stdout",
     "output_type": "stream",
     "text": [
      "True\n",
      "False\n"
     ]
    }
   ],
   "source": [
    "n = 10\n",
    "print(1 < n < 20)\n",
    "print(1 > n <= 9)"
   ]
  },
  {
   "cell_type": "markdown",
   "id": "arbitrary-flooring",
   "metadata": {},
   "source": [
    "## 3. 使用三元操作符来实现条件赋值\n",
    "[表达式为真的返回值] if [表达式] else [表达式为假的返回值]"
   ]
  },
  {
   "cell_type": "code",
   "execution_count": 3,
   "id": "desperate-bolivia",
   "metadata": {},
   "outputs": [
    {
     "name": "stdout",
     "output_type": "stream",
     "text": [
      "9\n"
     ]
    }
   ],
   "source": [
    "y = 20\n",
    "x = 9 if (y == 20) else 8\n",
    "print(x)"
   ]
  },
  {
   "cell_type": "markdown",
   "id": "mechanical-camel",
   "metadata": {},
   "source": [
    "## 4. 多行字符串"
   ]
  },
  {
   "cell_type": "code",
   "execution_count": 5,
   "id": "frozen-therapy",
   "metadata": {},
   "outputs": [
    {
     "name": "stdout",
     "output_type": "stream",
     "text": [
      "select * from multi_row where row_id < 5\n"
     ]
    }
   ],
   "source": [
    "multistr = \"select * from multi_row \\\n",
    "where row_id < 5\"\n",
    "print(multistr)"
   ]
  },
  {
   "cell_type": "code",
   "execution_count": 6,
   "id": "equal-large",
   "metadata": {},
   "outputs": [
    {
     "name": "stdout",
     "output_type": "stream",
     "text": [
      "select * from multi_row\n",
      "where row_id < 5\n"
     ]
    }
   ],
   "source": [
    "multistr = \"\"\"select * from multi_row\n",
    "where row_id < 5\"\"\"\n",
    "print(multistr)  # 能显示真正的多行"
   ]
  },
  {
   "cell_type": "code",
   "execution_count": 7,
   "id": "fancy-allen",
   "metadata": {},
   "outputs": [
    {
     "name": "stdout",
     "output_type": "stream",
     "text": [
      "select * from multi_rowwhere row_id < 5order by age\n"
     ]
    }
   ],
   "source": [
    "multistr = (\"select * from multi_row\"\n",
    "            \"where row_id < 5\"\n",
    "            \"order by age\")\n",
    "print(multistr)"
   ]
  },
  {
   "cell_type": "markdown",
   "id": "configured-launch",
   "metadata": {},
   "source": [
    "## 5. 存储列表元素到新的变量"
   ]
  },
  {
   "cell_type": "code",
   "execution_count": 10,
   "id": "frank-blogger",
   "metadata": {},
   "outputs": [
    {
     "name": "stdout",
     "output_type": "stream",
     "text": [
      "1 2 3\n",
      "3 4 5\n"
     ]
    }
   ],
   "source": [
    "testList = [1, 2, 3]\n",
    "x, y, z = testList  # 变量个数应该和列表长度严格一致\n",
    "print(x, y, z)\n",
    "testTuple = (3, 4, 5)\n",
    "x, y, z = testTuple\n",
    "print(x, y, z)"
   ]
  },
  {
   "cell_type": "markdown",
   "id": "auburn-hamburg",
   "metadata": {},
   "source": [
    "## 6. 打印引入模块的绝对路径"
   ]
  },
  {
   "cell_type": "code",
   "execution_count": 13,
   "id": "least-prerequisite",
   "metadata": {},
   "outputs": [
    {
     "name": "stdout",
     "output_type": "stream",
     "text": [
      "<module 'threading' from 'c:\\\\users\\\\18320\\\\appdata\\\\local\\\\programs\\\\python\\\\python38\\\\lib\\\\threading.py'>\n",
      "<module 'socket' from 'c:\\\\users\\\\18320\\\\appdata\\\\local\\\\programs\\\\python\\\\python38\\\\lib\\\\socket.py'>\n"
     ]
    }
   ],
   "source": [
    "import threading\n",
    "import socket\n",
    "\n",
    "print(threading)\n",
    "print(socket)"
   ]
  },
  {
   "cell_type": "markdown",
   "id": "developed-bruce",
   "metadata": {},
   "source": [
    "## 7. 字典/集合推导"
   ]
  },
  {
   "cell_type": "code",
   "execution_count": 14,
   "id": "czech-claim",
   "metadata": {},
   "outputs": [
    {
     "name": "stdout",
     "output_type": "stream",
     "text": [
      "{0: 0, 1: 1, 2: 4, 3: 9, 4: 16, 5: 25, 6: 36, 7: 49, 8: 64, 9: 81}\n",
      "{0, 2, 4, 6, 8, 10, 12, 14, 16, 18}\n"
     ]
    }
   ],
   "source": [
    "testDic = {i: i * i for i in range(10)}\n",
    "testSet = {i * 2 for i in range(10)}\n",
    "print(testDic)\n",
    "print(testSet)"
   ]
  },
  {
   "cell_type": "markdown",
   "id": "fatal-contamination",
   "metadata": {},
   "source": [
    "## 8. 检查Python中的对象"
   ]
  },
  {
   "cell_type": "code",
   "execution_count": 15,
   "id": "senior-smart",
   "metadata": {},
   "outputs": [
    {
     "name": "stdout",
     "output_type": "stream",
     "text": [
      "['__class__', '__delattr__', '__dict__', '__dir__', '__doc__', '__eq__', '__format__', '__ge__', '__getattribute__', '__gt__', '__hash__', '__init__', '__init_subclass__', '__le__', '__lt__', '__module__', '__ne__', '__new__', '__reduce__', '__reduce_ex__', '__repr__', '__setattr__', '__sizeof__', '__str__', '__subclasshook__', '__weakref__', 'age']\n"
     ]
    }
   ],
   "source": [
    "class A:\n",
    "    def __init__(self):\n",
    "        self.age = 10\n",
    "\n",
    "\n",
    "a = A()\n",
    "print(dir(a))"
   ]
  },
  {
   "cell_type": "markdown",
   "id": "sonic-tyler",
   "metadata": {},
   "source": [
    "## 9. 关键字in"
   ]
  },
  {
   "cell_type": "code",
   "execution_count": 17,
   "id": "peaceful-thanksgiving",
   "metadata": {},
   "outputs": [],
   "source": [
    "m = 2\n",
    "if m in [1, 2, 3, 4]:\n",
    "    pass"
   ]
  },
  {
   "cell_type": "markdown",
   "id": "younger-waterproof",
   "metadata": {},
   "source": [
    "## 10. 组合字符串join"
   ]
  },
  {
   "cell_type": "code",
   "execution_count": 18,
   "id": "controlling-oklahoma",
   "metadata": {},
   "outputs": [
    {
     "name": "stdout",
     "output_type": "stream",
     "text": [
      "['I', 'Like', 'Python']\n",
      "I Like Python\n"
     ]
    }
   ],
   "source": [
    "test = [\"I\", \"Like\", \"Python\"]\n",
    "print(test)\n",
    "print(\" \".join(test))  # 前面的' '表示字符串中间的分隔符"
   ]
  },
  {
   "cell_type": "markdown",
   "id": "accessory-senegal",
   "metadata": {},
   "source": [
    "## 11. 关键字enumerate"
   ]
  },
  {
   "cell_type": "code",
   "execution_count": 19,
   "id": "danish-engagement",
   "metadata": {},
   "outputs": [
    {
     "name": "stdout",
     "output_type": "stream",
     "text": [
      "0 : 10\n",
      "1 : 20\n",
      "2 : 30\n"
     ]
    }
   ],
   "source": [
    "test = [10, 20, 30]\n",
    "for i, value in enumerate(test):\n",
    "    print(i, ':', value)"
   ]
  },
  {
   "cell_type": "markdown",
   "id": "awful-laser",
   "metadata": {},
   "source": [
    "## 12. 使用*运算符解包函数参数"
   ]
  },
  {
   "cell_type": "code",
   "execution_count": 21,
   "id": "norman-following",
   "metadata": {},
   "outputs": [
    {
     "name": "stdout",
     "output_type": "stream",
     "text": [
      "x y z\n",
      "1 2 3\n",
      "10 20 30\n"
     ]
    }
   ],
   "source": [
    "def test(x, y, z):\n",
    "    print(x, y, z)\n",
    "\n",
    "\n",
    "testDic = {'x': 1, 'y': 2, 'z': 3}\n",
    "testList = [10, 20, 30]\n",
    "test(*testDic)  # 对于字典，*表示键，**表示值\n",
    "test(**testDic)\n",
    "test(*testList)"
   ]
  },
  {
   "cell_type": "markdown",
   "id": "frank-spell",
   "metadata": {},
   "source": [
    "## 13. 找到列表中出现次数最多的数 count"
   ]
  },
  {
   "cell_type": "code",
   "execution_count": 27,
   "id": "postal-therapist",
   "metadata": {},
   "outputs": [
    {
     "name": "stdout",
     "output_type": "stream",
     "text": [
      "集合：{1, 2, 3, 4, 5}\n",
      "最大的数：5\n",
      "出现次数最多的数：4\n",
      "4在列表中的次数：5\n"
     ]
    }
   ],
   "source": [
    "test = [5, 2, 3, 4, 2, 2, 3, 1, 4, 4, 4, 4]\n",
    "print(f'集合：{set(test)}')\n",
    "print(f'最大的数：{max(set(test))}')  # 找到最大的数\n",
    "print(f'出现次数最多的数：{max(set(test), key=test.count)}')  # 找到出现次数最多的数\n",
    "print(f'4在列表中的次数：{test.count(4)}')  # test.count(obj)统计某个元素在列表中的次数"
   ]
  },
  {
   "cell_type": "markdown",
   "id": "opponent-costs",
   "metadata": {},
   "source": [
    "## 14. 检查一个对象的内存使用\n",
    "这个值包括该对象的数值、签名（包括数据类型、参数、调用方式等）等一系列数据所占总内存。可变对象所占内存可能极小，因为对象是指针，指向很大的数据。"
   ]
  },
  {
   "cell_type": "code",
   "execution_count": 24,
   "id": "vital-still",
   "metadata": {},
   "outputs": [
    {
     "name": "stdout",
     "output_type": "stream",
     "text": [
      "28\n"
     ]
    }
   ],
   "source": [
    "import sys\n",
    "\n",
    "x = 1\n",
    "print(sys.getsizeof(x)) # 单位：字节 (byte)"
   ]
  },
  {
   "cell_type": "markdown",
   "id": "clinical-advice",
   "metadata": {},
   "source": [
    "## 15. 从两个相关序列构建一个字典"
   ]
  },
  {
   "cell_type": "code",
   "execution_count": 29,
   "id": "affiliated-picnic",
   "metadata": {},
   "outputs": [
    {
     "name": "stdout",
     "output_type": "stream",
     "text": [
      "{1: 10, 2: 20, 3: 30}\n",
      "[(1, 10), (2, 20), (3, 30)]\n"
     ]
    }
   ],
   "source": [
    "t1 = (1, 2, 3)\n",
    "t2 = (10, 20, 30)\n",
    "print(dict(zip(t1, t2)))\n",
    "print(list(zip(t1, t2)))"
   ]
  },
  {
   "cell_type": "markdown",
   "id": "mature-nigeria",
   "metadata": {},
   "source": [
    "## 16. 搜索字符串的多个前后缀"
   ]
  },
  {
   "cell_type": "code",
   "execution_count": 31,
   "id": "welsh-audio",
   "metadata": {},
   "outputs": [
    {
     "name": "stdout",
     "output_type": "stream",
     "text": [
      "True\n",
      "True\n"
     ]
    }
   ],
   "source": [
    "print(\"http://localhost:8888/notebooks/Untitled6.ipynb\".startswith((\"http://\", \"https://\")))\n",
    "print(\"http://localhost:8888/notebooks/Untitled6.ipynb\".endswith((\".ipynb\", \".py\")))"
   ]
  },
  {
   "cell_type": "markdown",
   "id": "caring-sociology",
   "metadata": {},
   "source": [
    "## 17. 使用try-catch语句"
   ]
  },
  {
   "cell_type": "code",
   "execution_count": 32,
   "id": "accepting-turtle",
   "metadata": {},
   "outputs": [
    {
     "name": "stdout",
     "output_type": "stream",
     "text": [
      "5\n"
     ]
    }
   ],
   "source": [
    "d = {'x': '5'}\n",
    "try:\n",
    "    value = int(d['x'])\n",
    "    print(value)\n",
    "except (KeyError, TypeError, ValueError):\n",
    "    value = None"
   ]
  }
 ],
 "metadata": {
  "kernelspec": {
   "display_name": "Python 3",
   "language": "python",
   "name": "python3"
  },
  "language_info": {
   "codemirror_mode": {
    "name": "ipython",
    "version": 3
   },
   "file_extension": ".py",
   "mimetype": "text/x-python",
   "name": "python",
   "nbconvert_exporter": "python",
   "pygments_lexer": "ipython3",
   "version": "3.8.1"
  },
  "toc-autonumbering": false,
  "toc-showcode": false,
  "toc-showmarkdowntxt": false,
  "toc-showtags": false
 },
 "nbformat": 4,
 "nbformat_minor": 5
}
