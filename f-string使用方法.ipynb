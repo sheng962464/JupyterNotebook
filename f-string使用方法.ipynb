{
 "cells": [
  {
   "cell_type": "markdown",
   "id": "hourly-length",
   "metadata": {},
   "source": [
    "# f-string使用方法"
   ]
  },
  {
   "cell_type": "markdown",
   "id": "controlled-revision",
   "metadata": {},
   "source": [
    "- f-string用大括号 {} 表示被替换字段，其中直接填入替换内容"
   ]
  },
  {
   "cell_type": "code",
   "execution_count": 1,
   "id": "surgical-acting",
   "metadata": {},
   "outputs": [
    {
     "name": "stdout",
     "output_type": "stream",
     "text": [
      "Zeros遇见正在玩死亡细胞\n"
     ]
    }
   ],
   "source": [
    "name = 'Zeros遇见'\n",
    "game = '死亡细胞'\n",
    "food = '苹果'\n",
    "video = '毛骗'\n",
    "\n",
    "print(f\"{name}正在玩{game}\")"
   ]
  },
  {
   "cell_type": "markdown",
   "id": "southeast-latino",
   "metadata": {},
   "source": [
    "## 多行字符串\n",
    "- 使用\"\"\"即可实现字符串换行"
   ]
  },
  {
   "cell_type": "code",
   "execution_count": 2,
   "id": "infectious-cardiff",
   "metadata": {},
   "outputs": [
    {
     "name": "stdout",
     "output_type": "stream",
     "text": [
      "\n",
      "Zeros遇见一边玩死亡细胞，\n",
      "一边在youtube上看毛骗，\n",
      "还让老婆削苹果吃。\n",
      "\n"
     ]
    }
   ],
   "source": [
    "message = f\"\"\"\n",
    "{name}一边玩{game}，\n",
    "一边在youtube上看{video}，\n",
    "还让老婆削{food}吃。\n",
    "\"\"\"\n",
    "print(message)"
   ]
  },
  {
   "cell_type": "markdown",
   "id": "apart-prisoner",
   "metadata": {},
   "source": [
    "## 字符串格式(常用)"
   ]
  },
  {
   "cell_type": "markdown",
   "id": "conceptual-final",
   "metadata": {},
   "source": [
    "### `datetime` 时间格式"
   ]
  },
  {
   "cell_type": "code",
   "execution_count": 22,
   "id": "powered-being",
   "metadata": {},
   "outputs": [
    {
     "name": "stdout",
     "output_type": "stream",
     "text": [
      "the time is 2021-01-28 (Thu) 14:31:56\n"
     ]
    }
   ],
   "source": [
    "import datetime\n",
    "e = datetime.datetime.today()\n",
    "print(f'the time is {e:%Y-%m-%d (%a) %H:%M:%S}')   # "
   ]
  },
  {
   "cell_type": "markdown",
   "id": "alpine-flavor",
   "metadata": {},
   "source": [
    "### 小数格式 `width.precision` :  整数 `width` 指定宽度，整数 `precision` 指定显示精度"
   ]
  },
  {
   "cell_type": "code",
   "execution_count": 25,
   "id": "genuine-coordinator",
   "metadata": {},
   "outputs": [
    {
     "name": "stdout",
     "output_type": "stream",
     "text": [
      "a is               123.46\n",
      "a is 00000000000000123.46\n"
     ]
    }
   ],
   "source": [
    "a = 123.456\n",
    "b = 1234567890.098765\n",
    "print(f'a is {a:20.2f}')\n",
    "print(f'a is {a:020.2f}')"
   ]
  },
  {
   "cell_type": "markdown",
   "id": "greek-chrome",
   "metadata": {},
   "source": [
    "### 千分位分隔符"
   ]
  },
  {
   "cell_type": "code",
   "execution_count": 27,
   "id": "removed-priority",
   "metadata": {},
   "outputs": [
    {
     "name": "stdout",
     "output_type": "stream",
     "text": [
      "b is 1,234,567,890.098765\n",
      "b is 1_234_567_890.098765\n"
     ]
    }
   ],
   "source": [
    "print(f'b is {b:,f}')\n",
    "print(f'b is {b:_f}')"
   ]
  }
 ],
 "metadata": {
  "kernelspec": {
   "display_name": "Python 3",
   "language": "python",
   "name": "python3"
  },
  "language_info": {
   "codemirror_mode": {
    "name": "ipython",
    "version": 3
   },
   "file_extension": ".py",
   "mimetype": "text/x-python",
   "name": "python",
   "nbconvert_exporter": "python",
   "pygments_lexer": "ipython3",
   "version": "3.8.1"
  }
 },
 "nbformat": 4,
 "nbformat_minor": 5
}
