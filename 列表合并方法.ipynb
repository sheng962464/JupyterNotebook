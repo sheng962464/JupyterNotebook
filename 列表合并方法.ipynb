{
 "cells": [
  {
   "cell_type": "markdown",
   "id": "undefined-clone",
   "metadata": {},
   "source": [
    "# 列表合并方法"
   ]
  },
  {
   "cell_type": "markdown",
   "id": "homeless-scanning",
   "metadata": {},
   "source": [
    "第一种方方法思路比较清晰，就是运算符的重载；\n",
    "\n",
    "第二种方法比较简洁，但会覆盖原始list；\n",
    "\n",
    "第三种方法功能比较强大，可以将一个列表插入另一个列表的任意位置"
   ]
  },
  {
   "cell_type": "code",
   "execution_count": 6,
   "id": "initial-segment",
   "metadata": {},
   "outputs": [
    {
     "name": "stdout",
     "output_type": "stream",
     "text": [
      "['www', 'pythontab.com', 1, 2, 3]\n"
     ]
    }
   ],
   "source": [
    "## 1. 直接使用‘+’合并\n",
    "a1List = [1, 2, 3]\n",
    "b1List = ['www', 'pythontab.com']\n",
    "cList = a1List + b1List\n",
    "dList = b1List + a1List\n",
    "print(dList)"
   ]
  },
  {
   "cell_type": "code",
   "execution_count": 4,
   "id": "detected-queens",
   "metadata": {},
   "outputs": [
    {
     "name": "stdout",
     "output_type": "stream",
     "text": [
      "[1, 2, 3, 'www', 'pythontab.com']\n"
     ]
    }
   ],
   "source": [
    "## 2. 使用extend方法\n",
    "aList = [1, 2, 3]\n",
    "bList = ['www', 'pythontab.com']\n",
    "aList.extend(bList)\n",
    "print(aList)"
   ]
  },
  {
   "cell_type": "code",
   "execution_count": 5,
   "id": "consolidated-teddy",
   "metadata": {},
   "outputs": [
    {
     "name": "stdout",
     "output_type": "stream",
     "text": [
      "[1, 2, 3, 'www', 'pythontab.com']\n"
     ]
    }
   ],
   "source": [
    "## 3. 使用切片\n",
    "aList = [1, 2, 3]\n",
    "bList = ['www', 'pythontab.com']\n",
    "aList[len(aList):len(aList)] = bList\n",
    "print(aList)"
   ]
  }
 ],
 "metadata": {
  "kernelspec": {
   "display_name": "Python 3",
   "language": "python",
   "name": "python3"
  },
  "language_info": {
   "codemirror_mode": {
    "name": "ipython",
    "version": 3
   },
   "file_extension": ".py",
   "mimetype": "text/x-python",
   "name": "python",
   "nbconvert_exporter": "python",
   "pygments_lexer": "ipython3",
   "version": "3.8.1"
  }
 },
 "nbformat": 4,
 "nbformat_minor": 5
}
