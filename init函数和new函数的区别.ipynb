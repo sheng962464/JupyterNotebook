{
 "cells": [
  {
   "cell_type": "markdown",
   "id": "vietnamese-kuwait",
   "metadata": {},
   "source": [
    "# init函数和new函数的区别"
   ]
  },
  {
   "cell_type": "markdown",
   "id": "breeding-ethics",
   "metadata": {},
   "source": [
    "1.  `__new__`方法的第一个参数是这个类，而其余的参数会在调用成功后全部传递给`__init__`方法初始化\n",
    "2.  如果`__new__`方法返回`None`，则`__init__`方法不会被执行\n",
    "3.  `__new__`是在实例创建之前被调用的，因为它的任务就是创建实例然后返回该实例，是个静态方法。\n",
    "   `__init__`是当实例对象创建完成后被调用的，然后设置对象属性的一些初始值。"
   ]
  },
  {
   "cell_type": "code",
   "execution_count": 1,
   "id": "hollywood-jacksonville",
   "metadata": {},
   "outputs": [
    {
     "name": "stdout",
     "output_type": "stream",
     "text": [
      "Class A的地址为： 2249393999968\n",
      "\n",
      "这是new方法:\n",
      "cls的地址为： 2249393999968\n",
      "__new__实例化的对象为 <__main__.A object at 0x0000020BBB007610>\n",
      "\n",
      "这是init方法:\n",
      "__init__收到的对象为： <__main__.A object at 0x0000020BBB007610>\n",
      "\n"
     ]
    }
   ],
   "source": [
    "class A:\n",
    "    \"\"\"\n",
    "    相当于要做三件事：\n",
    "        1. 调用__new__方法来创建对象，然后找一个变量来接受__new__的返回值，这个返回值表示创建出来的对象的引用\n",
    "        2. __init__(self)函数执行，其中self为刚刚创建出来的对象引用\n",
    "        3. 返回对象的引用\n",
    "    \"\"\"\n",
    "\n",
    "    def __init__(self):\n",
    "        print('这是init方法:')\n",
    "        print('__init__收到的对象为：', self)\n",
    "        print()\n",
    "\n",
    "    def __new__(cls, *args, **kwargs):\n",
    "        print('这是new方法:')\n",
    "        print('cls的地址为：', id(cls))\n",
    "        ret = super().__new__(cls)\n",
    "        print('__new__实例化的对象为', ret)\n",
    "        print()\n",
    "        return ret\n",
    "\n",
    "\n",
    "if __name__ == '__main__':\n",
    "    print('Class A的地址为：', id(A))\n",
    "    print()\n",
    "    a = A()"
   ]
  }
 ],
 "metadata": {
  "kernelspec": {
   "display_name": "Python 3",
   "language": "python",
   "name": "python3"
  },
  "language_info": {
   "codemirror_mode": {
    "name": "ipython",
    "version": 3
   },
   "file_extension": ".py",
   "mimetype": "text/x-python",
   "name": "python",
   "nbconvert_exporter": "python",
   "pygments_lexer": "ipython3",
   "version": "3.8.1"
  }
 },
 "nbformat": 4,
 "nbformat_minor": 5
}
