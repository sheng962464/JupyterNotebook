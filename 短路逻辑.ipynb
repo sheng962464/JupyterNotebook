{
 "cells": [
  {
   "cell_type": "markdown",
   "id": "defined-mailman",
   "metadata": {},
   "source": [
    "# or 和 and 的短路逻辑"
   ]
  },
  {
   "cell_type": "markdown",
   "id": "linear-belief",
   "metadata": {},
   "source": [
    "表达式从左至右运算，若 `or` 的左侧逻辑值为 `True` ，则短路 `or` 后所有的表达式（不管是 `and` 还是 `or`），直接输出 `or` 左侧表达式 。\n",
    "\n",
    "表达式从左至右运算，若 `and` 的左侧逻辑值为 `False` ，则短路其后所有 `and` 表达式，直到有 `or` 出现，输出 `and` 左侧表达式到 `or` 的左侧。\n",
    "\n",
    "若 `or` 的左侧为 `False` ，或者 `and` 的左侧为 `True` 则不能使用短路逻辑。\n",
    "\n",
    "```python\n",
    "True or ... = True\n",
    "False and ... = False\n",
    "```"
   ]
  },
  {
   "cell_type": "code",
   "execution_count": 2,
   "id": "surprising-discrimination",
   "metadata": {},
   "outputs": [],
   "source": [
    "# 只要是任何为空的对象都能被当做false，如'',[],0,()等\n",
    "\n",
    "def a(x):\n",
    "    print('A', end=' ')\n",
    "    return x\n",
    "\n",
    "def b(x):\n",
    "    print('B', end=' ')\n",
    "    return x\n",
    "\n",
    "def c(x):\n",
    "    print('C', end=' ')\n",
    "    return x\n",
    "\n",
    "def d(x):\n",
    "    print('D', end=' ')\n",
    "    return x\n",
    "\n",
    "def e(x):\n",
    "    print('E', end=' ')\n",
    "    return x\n",
    "\n",
    "def f(x):\n",
    "    print('F', end=' ')\n",
    "    return x\n",
    "\n",
    "def g(x):\n",
    "    print('G', end=' ')\n",
    "    return x\n",
    "\n",
    "def h(x):\n",
    "    print('H', end=' ')\n",
    "    return x"
   ]
  },
  {
   "cell_type": "markdown",
   "id": "latin-locking",
   "metadata": {},
   "source": [
    "## example 1"
   ]
  },
  {
   "cell_type": "code",
   "execution_count": 11,
   "id": "front-money",
   "metadata": {},
   "outputs": [
    {
     "name": "stdout",
     "output_type": "stream",
     "text": [
      "A \n"
     ]
    }
   ],
   "source": [
    "if a(0) and b(1) and c(1) and d(0) and e(1):\n",
    "    \"\"\"\n",
    "    a()为假 ，其后均为 and 语句，全部短路，最终只返回 a() 的表达式。\n",
    "    记住，所有被短路的表达式均不会被输出。所以，此处仅仅打印 A 。\n",
    "    \"\"\"\n",
    "    print('ok')\n",
    "else:\n",
    "    print()"
   ]
  },
  {
   "cell_type": "markdown",
   "id": "sustainable-steel",
   "metadata": {},
   "source": [
    "## example 2"
   ]
  },
  {
   "cell_type": "code",
   "execution_count": 13,
   "id": "unlike-fence",
   "metadata": {},
   "outputs": [
    {
     "name": "stdout",
     "output_type": "stream",
     "text": [
      "A B C \n"
     ]
    }
   ],
   "source": [
    "if a(1) and b(1) and c(0) and d(1) and e(1):\n",
    "    \"\"\"\n",
    "    python 从左至右先执行 a() ,a() 返回的逻辑值为 True，后面是 and 语句，所以不能短路其后，\n",
    "    继续与 b() 进行逻辑运算，a() and b() 输出 b() 的逻辑值 True，\n",
    "    接着与 c() 进行逻辑运算，b() and c() 输出 c() 的逻辑值 False，\n",
    "    而其后均为 and 语句， 则全部短路，最终只打印了 A B C 。\n",
    "    \"\"\"\n",
    "    print('ok')\n",
    "else:\n",
    "    print()"
   ]
  },
  {
   "cell_type": "markdown",
   "id": "geographic-serial",
   "metadata": {},
   "source": [
    "## example 3"
   ]
  },
  {
   "cell_type": "code",
   "execution_count": 14,
   "id": "elementary-participation",
   "metadata": {},
   "outputs": [
    {
     "name": "stdout",
     "output_type": "stream",
     "text": [
      "A ok\n"
     ]
    }
   ],
   "source": [
    "if a(1) or b(1) or c(0) or d(1) or e(0):\n",
    "    \"\"\"\n",
    "    a() 的逻辑值为 True ，其后均为 or 语句，全部短路，最终只打印了 A，\n",
    "    而 if 语句为 True ，所以还要打印一个 ok。\n",
    "    \"\"\"\n",
    "    print('ok')\n",
    "else:\n",
    "    print()"
   ]
  },
  {
   "cell_type": "markdown",
   "id": "completed-newman",
   "metadata": {},
   "source": [
    "## example 4"
   ]
  },
  {
   "cell_type": "code",
   "execution_count": 15,
   "id": "brutal-commercial",
   "metadata": {},
   "outputs": [
    {
     "name": "stdout",
     "output_type": "stream",
     "text": [
      "A B C ok\n"
     ]
    }
   ],
   "source": [
    "if a(0) or b(0) or c(1) or d(0) or e(1):\n",
    "    \"\"\"\n",
    "    python 从左至右先执行 a() ,a() 返回的逻辑值为 False，后面是 or 语句，所以不能短路其后，\n",
    "    继续与 b() 进行逻辑运算，a() or b() 输出 b() 的逻辑值 False，\n",
    "    接着与 c() 进行逻辑运算，b() or c() 输出 c() 的逻辑值 True，\n",
    "    而其后为 or 语句， 则全部短路，最终只打印了 A B C ok。\n",
    "    \"\"\"\n",
    "    print('ok')\n",
    "else:\n",
    "    print()"
   ]
  },
  {
   "cell_type": "markdown",
   "id": "knowing-aaron",
   "metadata": {},
   "source": [
    "## example 5"
   ]
  },
  {
   "cell_type": "code",
   "execution_count": 16,
   "id": "growing-athens",
   "metadata": {},
   "outputs": [
    {
     "name": "stdout",
     "output_type": "stream",
     "text": [
      "A E F ok\n"
     ]
    }
   ],
   "source": [
    "if a(0) and b(0) and c(1) and d(0) or e(1) and f(1) or g(0) and h(1):\n",
    "    \"\"\"\n",
    "    从左至右，首先a() 的逻辑值为 False，\n",
    "    其后到 or 语句为止有三个 and 语句： a() and b() and c() and d()，均被短路。\n",
    "    只输出 a(), 得到 a() or e() 为True，\n",
    "    输出 e() ,得 e() and F() 为 True ,输出 f(), \n",
    "    其后接 or 语句，则短路其后所有。最终只打印了A E F ok 。\n",
    "    \"\"\"\n",
    "    print('ok')\n",
    "else:\n",
    "    print()"
   ]
  }
 ],
 "metadata": {
  "kernelspec": {
   "display_name": "Python 3",
   "language": "python",
   "name": "python3"
  },
  "language_info": {
   "codemirror_mode": {
    "name": "ipython",
    "version": 3
   },
   "file_extension": ".py",
   "mimetype": "text/x-python",
   "name": "python",
   "nbconvert_exporter": "python",
   "pygments_lexer": "ipython3",
   "version": "3.8.1"
  }
 },
 "nbformat": 4,
 "nbformat_minor": 5
}
