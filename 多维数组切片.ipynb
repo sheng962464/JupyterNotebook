{
 "cells": [
  {
   "cell_type": "markdown",
   "id": "mental-alpha",
   "metadata": {},
   "source": [
    "# 多维数组切片"
   ]
  },
  {
   "cell_type": "code",
   "execution_count": 5,
   "id": "signed-anniversary",
   "metadata": {},
   "outputs": [
    {
     "name": "stdout",
     "output_type": "stream",
     "text": [
      "原多维数组\n",
      "[[[ 0  1  2  3]\n",
      "  [ 4  5  6  7]\n",
      "  [ 8  9 10 11]]\n",
      "\n",
      " [[12 13 14 15]\n",
      "  [16 17 18 19]\n",
      "  [20 21 22 23]]]\n"
     ]
    }
   ],
   "source": [
    "import numpy as np\n",
    "b = np.arange(24)\n",
    "a = b.reshape((2, 3, 4))\n",
    "print('原多维数组')\n",
    "print(a)"
   ]
  },
  {
   "cell_type": "markdown",
   "id": "stretch-telling",
   "metadata": {},
   "source": [
    "如该三维数组，为2元3行4列形式。如果想获取某个元素，则需要 `a[1,2,3]` 的形式。\n",
    "\n",
    "因此对于切片，第一个参数表示第几元，第二个参数表示第几行，第三个参数表示第几列。\n",
    "\n",
    "如果为 `:` 则表示所有，`0:2`表示从0到2（不包含2）"
   ]
  },
  {
   "cell_type": "code",
   "execution_count": 7,
   "id": "ordinary-andrew",
   "metadata": {},
   "outputs": [
    {
     "name": "stdout",
     "output_type": "stream",
     "text": [
      "数组a第0个元素（二维数组）下的所有子元素（一维数组）的第一列\n",
      "[0 4 8]\n"
     ]
    }
   ],
   "source": [
    "print('数组a第0个元素（二维数组）下的所有子元素（一维数组）的第一列')\n",
    "print(a[0, :, 0])   # 第0元，所有行的第一列元素"
   ]
  },
  {
   "cell_type": "code",
   "execution_count": 11,
   "id": "indirect-heater",
   "metadata": {},
   "outputs": [
    {
     "name": "stdout",
     "output_type": "stream",
     "text": [
      "取所有二维数组下的每个二维数组的第0个元素（一维数组）\n",
      "[[ 0  1  2  3]\n",
      " [12 13 14 15]]\n"
     ]
    }
   ],
   "source": [
    "print('取所有二维数组下的每个二维数组的第0个元素（一维数组）')\n",
    "print(a[:, 0])   # 所有元的第0行，由两个一维数组组成的二维数组"
   ]
  },
  {
   "cell_type": "code",
   "execution_count": 12,
   "id": "creative-victoria",
   "metadata": {},
   "outputs": [
    {
     "name": "stdout",
     "output_type": "stream",
     "text": [
      "取所有二维数组下面的所有一维数组的每一个一维数组的第0个元素\n",
      "[[ 0  4  8]\n",
      " [12 16 20]]\n"
     ]
    }
   ],
   "source": [
    "print('取所有二维数组下面的所有一维数组的每一个一维数组的第0个元素')\n",
    "print(a[:, :, 0])   # 所有元所有行的第0列元素"
   ]
  },
  {
   "cell_type": "code",
   "execution_count": 13,
   "id": "announced-massachusetts",
   "metadata": {},
   "outputs": [
    {
     "name": "stdout",
     "output_type": "stream",
     "text": [
      "取所有二维数组下面的所有一维数组的每一个一维数组的第0到2（不包含第2）个元素\n",
      "[[[ 0  1]\n",
      "  [ 4  5]\n",
      "  [ 8  9]]\n",
      "\n",
      " [[12 13]\n",
      "  [16 17]\n",
      "  [20 21]]]\n"
     ]
    }
   ],
   "source": [
    "print('取所有二维数组下面的所有一维数组的每一个一维数组的第0到2（不包含第2）个元素')\n",
    "print(a[:, :, 0:2])   # 所有元所有行的第0-2列元素"
   ]
  }
 ],
 "metadata": {
  "kernelspec": {
   "display_name": "Python 3",
   "language": "python",
   "name": "python3"
  },
  "language_info": {
   "codemirror_mode": {
    "name": "ipython",
    "version": 3
   },
   "file_extension": ".py",
   "mimetype": "text/x-python",
   "name": "python",
   "nbconvert_exporter": "python",
   "pygments_lexer": "ipython3",
   "version": "3.8.1"
  }
 },
 "nbformat": 4,
 "nbformat_minor": 5
}
