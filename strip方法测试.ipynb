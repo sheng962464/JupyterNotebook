{
 "cells": [
  {
   "cell_type": "markdown",
   "id": "broad-triumph",
   "metadata": {},
   "source": [
    "# strip方法使用\n",
    "\n",
    "Python中有三个去除头尾字符、空白符的函数，它们依次为:\n",
    "\n",
    "- strip： 用来去除头尾字符、空白符(包括\\n、\\r、\\t、' '，即：换行、回车、制表符、空格)\n",
    "\n",
    "- lstrip：用来去除开头字符、空白符(包括\\n、\\r、\\t、' '，即：换行、回车、制表符、空格)\n",
    "\n",
    "- rstrip：用来去除结尾字符、空白符(包括\\n、\\r、\\t、' '，即：换行、回车、制表符、空格)\n",
    "\n",
    "注意：这些函数都只会删除头和尾的字符，中间的不会删除。"
   ]
  },
  {
   "cell_type": "code",
   "execution_count": 5,
   "id": "higher-guest",
   "metadata": {},
   "outputs": [
    {
     "name": "stdout",
     "output_type": "stream",
     "text": [
      "python #\n"
     ]
    }
   ],
   "source": [
    "# 加一个#来显示字符串到哪里结束\n",
    "name = '         python              '\n",
    "print(name.strip(), '#')"
   ]
  },
  {
   "cell_type": "code",
   "execution_count": 2,
   "id": "upset-class",
   "metadata": {},
   "outputs": [
    {
     "name": "stdout",
     "output_type": "stream",
     "text": [
      "python               #\n"
     ]
    }
   ],
   "source": [
    "name = '         python              '\n",
    "print(name.lstrip(), '#')"
   ]
  },
  {
   "cell_type": "code",
   "execution_count": 3,
   "id": "controlled-driving",
   "metadata": {},
   "outputs": [
    {
     "name": "stdout",
     "output_type": "stream",
     "text": [
      "         python #\n"
     ]
    }
   ],
   "source": [
    "name = '         python              '\n",
    "print(name.rstrip(), '#')"
   ]
  },
  {
   "cell_type": "code",
   "execution_count": 4,
   "id": "normal-fitting",
   "metadata": {},
   "outputs": [
    {
     "name": "stdout",
     "output_type": "stream",
     "text": [
      "1     python      1 #\n"
     ]
    }
   ],
   "source": [
    "name = '    1     python      1        '\n",
    "print(name.strip(), '#')"
   ]
  },
  {
   "cell_type": "code",
   "execution_count": 6,
   "id": "domestic-agriculture",
   "metadata": {},
   "outputs": [
    {
     "name": "stdout",
     "output_type": "stream",
     "text": [
      "200000python000002\n"
     ]
    }
   ],
   "source": [
    "# 当strip函数中存在参数时，把参数视为一个一个字符，删除开头和结尾的字符\n",
    "name = '00000000011100000000111000200000python000002000011100000111100000000000000000'\n",
    "print(name.strip('01'))"
   ]
  }
 ],
 "metadata": {
  "kernelspec": {
   "display_name": "Python 3",
   "language": "python",
   "name": "python3"
  },
  "language_info": {
   "codemirror_mode": {
    "name": "ipython",
    "version": 3
   },
   "file_extension": ".py",
   "mimetype": "text/x-python",
   "name": "python",
   "nbconvert_exporter": "python",
   "pygments_lexer": "ipython3",
   "version": "3.8.1"
  }
 },
 "nbformat": 4,
 "nbformat_minor": 5
}
