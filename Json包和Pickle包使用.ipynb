{
 "cells": [
  {
   "cell_type": "markdown",
   "id": "together-judges",
   "metadata": {},
   "source": [
    "# json 和 pickle 包使用\n",
    "\n",
    "`json` 和 `pickle` 是用于序列化的两个包\n",
    "\n",
    "- `json` 用于 python 数据结构和字符串之间的转换\n",
    "- `pickle` 用于 python 数据结构与 pickle 数据之间的转换"
   ]
  },
  {
   "cell_type": "code",
   "execution_count": 5,
   "id": "given-injury",
   "metadata": {},
   "outputs": [],
   "source": [
    "import json,pickle\n",
    "\n",
    "data = [100, \"Python3\", {\"www\": 1, \"baidu.com\": 2, \"Python3\": 3}]\n",
    "savePicklePath = 'D:/pickleString.txt'\n",
    "saveJsonPath = 'D:/jsonString.txt'"
   ]
  },
  {
   "cell_type": "markdown",
   "id": "dirty-sample",
   "metadata": {},
   "source": [
    "两者都提供了四种功能，`dumps`，`dump`，`loads`，`load`。\n",
    "\n",
    "- `dump` 将 `python` 的数据结构转换为 `json` 或 `pickle` 数据，并保存在文件中，注意一个参数是 `wb` ， 一个是 `w`"
   ]
  },
  {
   "cell_type": "code",
   "execution_count": 15,
   "id": "freelance-antigua",
   "metadata": {},
   "outputs": [],
   "source": [
    "with open(savePicklePath, 'wb') as f:\n",
    "    pickle.dump(data, f)\n",
    "    \n",
    "with open(saveJsonPath, 'w') as f:\n",
    "    json.dump(data, f)"
   ]
  },
  {
   "cell_type": "markdown",
   "id": "spatial-thickness",
   "metadata": {},
   "source": [
    "- `load` 将读取文件中的 `json` 或 `pickle` 数据，并转换为`python`数据结构，注意一个参数是 `rb` ，一个是 `r`"
   ]
  },
  {
   "cell_type": "code",
   "execution_count": 19,
   "id": "diagnostic-links",
   "metadata": {},
   "outputs": [
    {
     "name": "stdout",
     "output_type": "stream",
     "text": [
      "picke_dumps <class 'list'> : [100, 'Python3', {'www': 1, 'baidu.com': 2, 'Python3': 3}]\n",
      "json_dumps: <class 'list'> [100, 'Python3', {'www': 1, 'baidu.com': 2, 'Python3': 3}]\n"
     ]
    }
   ],
   "source": [
    "with open(savePicklePath, 'rb') as f:\n",
    "    mes = pickle.load(f)\n",
    "    print('picke_load', type(mes), ':', mes)\n",
    "\n",
    "with open(saveJsonPath, 'r') as f:\n",
    "    mes = json.load(f)\n",
    "    print('json_load:', type(mes), mes)"
   ]
  },
  {
   "cell_type": "markdown",
   "id": "promotional-panic",
   "metadata": {},
   "source": [
    "- `dumps` 将 `python` 的数据结构转换为 `json` 或 `pickle` 数据"
   ]
  },
  {
   "cell_type": "code",
   "execution_count": 20,
   "id": "occupational-order",
   "metadata": {},
   "outputs": [
    {
     "name": "stdout",
     "output_type": "stream",
     "text": [
      "picke_dumps <class 'bytes'> : b'\\x80\\x04\\x95/\\x00\\x00\\x00\\x00\\x00\\x00\\x00]\\x94(Kd\\x8c\\x07Python3\\x94}\\x94(\\x8c\\x03www\\x94K\\x01\\x8c\\tbaidu.com\\x94K\\x02h\\x01K\\x03ue.'\n",
      "json_dumps: <class 'str'> [100, \"Python3\", {\"www\": 1, \"baidu.com\": 2, \"Python3\": 3}]\n"
     ]
    }
   ],
   "source": [
    "picke_dumps = pickle.dumps(data)\n",
    "print('picke_dumps', type(picke_dumps), ':', picke_dumps)\n",
    "\n",
    "json_dumps = json.dumps(data)\n",
    "print('json_dumps:', type(json_dumps), json_dumps)"
   ]
  },
  {
   "cell_type": "markdown",
   "id": "regular-matter",
   "metadata": {},
   "source": [
    "- `loads` 将 `json` 或 `pickle` 数据转换为`python`的数据结构"
   ]
  },
  {
   "cell_type": "code",
   "execution_count": 21,
   "id": "ranging-season",
   "metadata": {},
   "outputs": [
    {
     "name": "stdout",
     "output_type": "stream",
     "text": [
      "pickle_loads: <class 'list'> : [100, 'Python3', {'www': 1, 'baidu.com': 2, 'Python3': 3}]\n",
      "json_loads <class 'list'> [100, 'Python3', {'www': 1, 'baidu.com': 2, 'Python3': 3}]\n"
     ]
    }
   ],
   "source": [
    "pickle_loads = pickle.loads(picke_dumps)\n",
    "print('pickle_loads:', type(pickle_loads), ':', pickle_loads)\n",
    "\n",
    "json_loads = json.loads(json_dumps)\n",
    "print('json_loads', type(json_loads), json_loads)"
   ]
  }
 ],
 "metadata": {
  "kernelspec": {
   "display_name": "Python 3",
   "language": "python",
   "name": "python3"
  },
  "language_info": {
   "codemirror_mode": {
    "name": "ipython",
    "version": 3
   },
   "file_extension": ".py",
   "mimetype": "text/x-python",
   "name": "python",
   "nbconvert_exporter": "python",
   "pygments_lexer": "ipython3",
   "version": "3.8.1"
  }
 },
 "nbformat": 4,
 "nbformat_minor": 5
}
